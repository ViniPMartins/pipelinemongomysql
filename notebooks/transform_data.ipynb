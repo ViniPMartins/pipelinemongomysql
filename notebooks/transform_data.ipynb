{
 "cells": [
  {
   "cell_type": "code",
   "execution_count": 1,
   "metadata": {},
   "outputs": [],
   "source": [
    "import pandas as pd"
   ]
  },
  {
   "cell_type": "code",
   "execution_count": 2,
   "metadata": {},
   "outputs": [
    {
     "name": "stdout",
     "output_type": "stream",
     "text": [
      "Pinged your deployment. You successfully connected to MongoDB!\n"
     ]
    }
   ],
   "source": [
    "from pymongo.mongo_client import MongoClient\n",
    "from pymongo.server_api import ServerApi\n",
    "\n",
    ***REMOVED***\n",
    "\n",
    "# Create a new client and connect to the server\n",
    "client = MongoClient(uri, server_api=ServerApi('1'))\n",
    "\n",
    "# Send a ping to confirm a successful connection\n",
    "try:\n",
    "    client.admin.command('ping')\n",
    "    print(\"Pinged your deployment. You successfully connected to MongoDB!\")\n",
    "except Exception as e:\n",
    "    print(e)"
   ]
  },
  {
   "cell_type": "code",
   "execution_count": 3,
   "metadata": {},
   "outputs": [
    {
     "data": {
      "text/plain": [
       "['database_desafio', 'sample_mflix', 'admin', 'local']"
      ]
     },
     "execution_count": 3,
     "metadata": {},
     "output_type": "execute_result"
    }
   ],
   "source": [
    "client.list_database_names()"
   ]
  },
  {
   "cell_type": "code",
   "execution_count": 3,
   "metadata": {},
   "outputs": [],
   "source": [
    "db = client['db_produtos']\n",
    "collection = db['produtos']"
   ]
  },
  {
   "cell_type": "markdown",
   "metadata": {},
   "source": [
    "- Fazer leitura de todos os dados\n",
    "- renomear colunas lat e lon"
   ]
  },
  {
   "cell_type": "code",
   "execution_count": 9,
   "metadata": {},
   "outputs": [
    {
     "name": "stdout",
     "output_type": "stream",
     "text": [
      "{'_id': ObjectId('65b267f10c009c70acadc6e4'), 'Produto': 'Modelagem preditiva', 'Categoria do Produto': 'livros', 'Preço': 92.45, 'Frete': 5.6096965236, 'Data da Compra': '01/01/2020', 'Vendedor': 'Thiago Silva', 'Local da compra': 'BA', 'Avaliação da compra': 1, 'Tipo de pagamento': 'cartao_credito', 'Quantidade de parcelas': 3, 'lat': -13.29, 'lon': -41.71}\n",
      "{'_id': ObjectId('65b267f10c009c70acadc6e5'), 'Produto': 'Iniciando em programação', 'Categoria do Produto': 'livros', 'Preço': 43.84, 'Frete': 0.0, 'Data da Compra': '01/01/2020', 'Vendedor': 'Mariana Ferreira', 'Local da compra': 'SP', 'Avaliação da compra': 5, 'Tipo de pagamento': 'cartao_credito', 'Quantidade de parcelas': 1, 'lat': -22.19, 'lon': -48.79}\n",
      "{'_id': ObjectId('65b267f10c009c70acadc6e6'), 'Produto': 'Pandeiro', 'Categoria do Produto': 'instrumentos musicais', 'Preço': 87.18, 'Frete': 2.2265117938, 'Data da Compra': '01/01/2020', 'Vendedor': 'Thiago Silva', 'Local da compra': 'RJ', 'Avaliação da compra': 4, 'Tipo de pagamento': 'cartao_credito', 'Quantidade de parcelas': 4, 'lat': -22.25, 'lon': -42.66}\n",
      "{'_id': ObjectId('65b267f10c009c70acadc6e7'), 'Produto': 'Corda de pular', 'Categoria do Produto': 'esporte e lazer', 'Preço': 13.65, 'Frete': 1.2579259604, 'Data da Compra': '01/01/2020', 'Vendedor': 'Camila Ribeiro', 'Local da compra': 'RJ', 'Avaliação da compra': 4, 'Tipo de pagamento': 'boleto', 'Quantidade de parcelas': 1, 'lat': -22.25, 'lon': -42.66}\n",
      "{'_id': ObjectId('65b267f10c009c70acadc6e8'), 'Produto': 'Dinossauro Rex', 'Categoria do Produto': 'brinquedos', 'Preço': 28.32, 'Frete': 2.0390593271, 'Data da Compra': '01/01/2020', 'Vendedor': 'Juliana Costa', 'Local da compra': 'RJ', 'Avaliação da compra': 1, 'Tipo de pagamento': 'cartao_debito', 'Quantidade de parcelas': 1, 'lat': -22.25, 'lon': -42.66}\n",
      "{'_id': ObjectId('65b267f10c009c70acadc6e9'), 'Produto': 'Jogo de copos', 'Categoria do Produto': 'utilidades domesticas', 'Preço': 54.67, 'Frete': 9.2906273957, 'Data da Compra': '01/01/2020', 'Vendedor': 'Camila Ribeiro', 'Local da compra': 'SP', 'Avaliação da compra': 4, 'Tipo de pagamento': 'boleto', 'Quantidade de parcelas': 1, 'lat': -22.19, 'lon': -48.79}\n",
      "{'_id': ObjectId('65b267f10c009c70acadc6ea'), 'Produto': 'Lavadora de roupas', 'Categoria do Produto': 'eletrodomesticos', 'Preço': 1920.01, 'Frete': 99.8191954012, 'Data da Compra': '01/01/2020', 'Vendedor': 'Juliana Costa', 'Local da compra': 'ES', 'Avaliação da compra': 5, 'Tipo de pagamento': 'cartao_credito', 'Quantidade de parcelas': 2, 'lat': -19.19, 'lon': -40.34}\n",
      "{'_id': ObjectId('65b267f10c009c70acadc6eb'), 'Produto': 'Bola de vôlei', 'Categoria do Produto': 'esporte e lazer', 'Preço': 56.26, 'Frete': 0.0, 'Data da Compra': '01/01/2020', 'Vendedor': 'Mariana Ferreira', 'Local da compra': 'MG', 'Avaliação da compra': 3, 'Tipo de pagamento': 'cartao_credito', 'Quantidade de parcelas': 4, 'lat': -18.1, 'lon': -44.38}\n",
      "{'_id': ObjectId('65b267f10c009c70acadc6ec'), 'Produto': 'Xadrez de madeira', 'Categoria do Produto': 'brinquedos', 'Preço': 25.87, 'Frete': 1.9086041977, 'Data da Compra': '01/01/2020', 'Vendedor': 'Juliana Costa', 'Local da compra': 'SP', 'Avaliação da compra': 5, 'Tipo de pagamento': 'boleto', 'Quantidade de parcelas': 1, 'lat': -22.19, 'lon': -48.79}\n",
      "{'_id': ObjectId('65b267f10c009c70acadc6ed'), 'Produto': 'Xadrez de madeira', 'Categoria do Produto': 'brinquedos', 'Preço': 25.23, 'Frete': 0.0, 'Data da Compra': '01/01/2021', 'Vendedor': 'Thiago Silva', 'Local da compra': 'BA', 'Avaliação da compra': 5, 'Tipo de pagamento': 'cartao_credito', 'Quantidade de parcelas': 2, 'lat': -13.29, 'lon': -41.71}\n"
     ]
    }
   ],
   "source": [
    "for doc in collection.find().limit(10):\n",
    "    print(doc)"
   ]
  },
  {
   "cell_type": "code",
   "execution_count": 11,
   "metadata": {},
   "outputs": [
    {
     "data": {
      "text/plain": [
       "<pymongo.results.UpdateResult at 0x7efe304374f0>"
      ]
     },
     "execution_count": 11,
     "metadata": {},
     "output_type": "execute_result"
    }
   ],
   "source": [
    "collection.update_many({}, {'$rename':{'lat':'latitude','lon':'longitude'}})"
   ]
  },
  {
   "cell_type": "code",
   "execution_count": 12,
   "metadata": {},
   "outputs": [
    {
     "data": {
      "text/plain": [
       "{'_id': ObjectId('65b267f10c009c70acadc6e4'),\n",
       " 'Produto': 'Modelagem preditiva',\n",
       " 'Categoria do Produto': 'livros',\n",
       " 'Preço': 92.45,\n",
       " 'Frete': 5.6096965236,\n",
       " 'Data da Compra': '01/01/2020',\n",
       " 'Vendedor': 'Thiago Silva',\n",
       " 'Local da compra': 'BA',\n",
       " 'Avaliação da compra': 1,\n",
       " 'Tipo de pagamento': 'cartao_credito',\n",
       " 'Quantidade de parcelas': 3,\n",
       " 'latitude': -13.29,\n",
       " 'longitude': -41.71}"
      ]
     },
     "execution_count": 12,
     "metadata": {},
     "output_type": "execute_result"
    }
   ],
   "source": [
    "collection.find_one()"
   ]
  },
  {
   "cell_type": "code",
   "execution_count": 13,
   "metadata": {},
   "outputs": [
    {
     "name": "stdout",
     "output_type": "stream",
     "text": [
      "{'_id': ObjectId('65b267f10c009c70acadc6e4'), 'Produto': 'Modelagem preditiva', 'Categoria do Produto': 'livros', 'Preço': 92.45, 'Frete': 5.6096965236, 'Data da Compra': '01/01/2020', 'Vendedor': 'Thiago Silva', 'Local da compra': 'BA', 'Avaliação da compra': 1, 'Tipo de pagamento': 'cartao_credito', 'Quantidade de parcelas': 3, 'latitude': -13.29, 'longitude': -41.71}\n",
      "{'_id': ObjectId('65b267f10c009c70acadc6e5'), 'Produto': 'Iniciando em programação', 'Categoria do Produto': 'livros', 'Preço': 43.84, 'Frete': 0.0, 'Data da Compra': '01/01/2020', 'Vendedor': 'Mariana Ferreira', 'Local da compra': 'SP', 'Avaliação da compra': 5, 'Tipo de pagamento': 'cartao_credito', 'Quantidade de parcelas': 1, 'latitude': -22.19, 'longitude': -48.79}\n",
      "{'_id': ObjectId('65b267f10c009c70acadc6e6'), 'Produto': 'Pandeiro', 'Categoria do Produto': 'instrumentos musicais', 'Preço': 87.18, 'Frete': 2.2265117938, 'Data da Compra': '01/01/2020', 'Vendedor': 'Thiago Silva', 'Local da compra': 'RJ', 'Avaliação da compra': 4, 'Tipo de pagamento': 'cartao_credito', 'Quantidade de parcelas': 4, 'latitude': -22.25, 'longitude': -42.66}\n",
      "{'_id': ObjectId('65b267f10c009c70acadc6e7'), 'Produto': 'Corda de pular', 'Categoria do Produto': 'esporte e lazer', 'Preço': 13.65, 'Frete': 1.2579259604, 'Data da Compra': '01/01/2020', 'Vendedor': 'Camila Ribeiro', 'Local da compra': 'RJ', 'Avaliação da compra': 4, 'Tipo de pagamento': 'boleto', 'Quantidade de parcelas': 1, 'latitude': -22.25, 'longitude': -42.66}\n",
      "{'_id': ObjectId('65b267f10c009c70acadc6e8'), 'Produto': 'Dinossauro Rex', 'Categoria do Produto': 'brinquedos', 'Preço': 28.32, 'Frete': 2.0390593271, 'Data da Compra': '01/01/2020', 'Vendedor': 'Juliana Costa', 'Local da compra': 'RJ', 'Avaliação da compra': 1, 'Tipo de pagamento': 'cartao_debito', 'Quantidade de parcelas': 1, 'latitude': -22.25, 'longitude': -42.66}\n",
      "{'_id': ObjectId('65b267f10c009c70acadc6e9'), 'Produto': 'Jogo de copos', 'Categoria do Produto': 'utilidades domesticas', 'Preço': 54.67, 'Frete': 9.2906273957, 'Data da Compra': '01/01/2020', 'Vendedor': 'Camila Ribeiro', 'Local da compra': 'SP', 'Avaliação da compra': 4, 'Tipo de pagamento': 'boleto', 'Quantidade de parcelas': 1, 'latitude': -22.19, 'longitude': -48.79}\n",
      "{'_id': ObjectId('65b267f10c009c70acadc6ea'), 'Produto': 'Lavadora de roupas', 'Categoria do Produto': 'eletrodomesticos', 'Preço': 1920.01, 'Frete': 99.8191954012, 'Data da Compra': '01/01/2020', 'Vendedor': 'Juliana Costa', 'Local da compra': 'ES', 'Avaliação da compra': 5, 'Tipo de pagamento': 'cartao_credito', 'Quantidade de parcelas': 2, 'latitude': -19.19, 'longitude': -40.34}\n",
      "{'_id': ObjectId('65b267f10c009c70acadc6eb'), 'Produto': 'Bola de vôlei', 'Categoria do Produto': 'esporte e lazer', 'Preço': 56.26, 'Frete': 0.0, 'Data da Compra': '01/01/2020', 'Vendedor': 'Mariana Ferreira', 'Local da compra': 'MG', 'Avaliação da compra': 3, 'Tipo de pagamento': 'cartao_credito', 'Quantidade de parcelas': 4, 'latitude': -18.1, 'longitude': -44.38}\n",
      "{'_id': ObjectId('65b267f10c009c70acadc6ec'), 'Produto': 'Xadrez de madeira', 'Categoria do Produto': 'brinquedos', 'Preço': 25.87, 'Frete': 1.9086041977, 'Data da Compra': '01/01/2020', 'Vendedor': 'Juliana Costa', 'Local da compra': 'SP', 'Avaliação da compra': 5, 'Tipo de pagamento': 'boleto', 'Quantidade de parcelas': 1, 'latitude': -22.19, 'longitude': -48.79}\n",
      "{'_id': ObjectId('65b267f10c009c70acadc6ed'), 'Produto': 'Xadrez de madeira', 'Categoria do Produto': 'brinquedos', 'Preço': 25.23, 'Frete': 0.0, 'Data da Compra': '01/01/2021', 'Vendedor': 'Thiago Silva', 'Local da compra': 'BA', 'Avaliação da compra': 5, 'Tipo de pagamento': 'cartao_credito', 'Quantidade de parcelas': 2, 'latitude': -13.29, 'longitude': -41.71}\n"
     ]
    }
   ],
   "source": [
    "for doc in collection.find().limit(10):\n",
    "    print(doc)"
   ]
  },
  {
   "cell_type": "code",
   "execution_count": 15,
   "metadata": {},
   "outputs": [
    {
     "data": {
      "text/plain": [
       "['brinquedos',\n",
       " 'eletrodomesticos',\n",
       " 'eletronicos',\n",
       " 'esporte e lazer',\n",
       " 'instrumentos musicais',\n",
       " 'livros',\n",
       " 'moveis',\n",
       " 'utilidades domesticas']"
      ]
     },
     "execution_count": 15,
     "metadata": {},
     "output_type": "execute_result"
    }
   ],
   "source": [
    "collection.distinct('Categoria do Produto')"
   ]
  },
  {
   "cell_type": "code",
   "execution_count": 17,
   "metadata": {},
   "outputs": [],
   "source": [
    "query = {'Categoria do Produto':'livros'}\n",
    "\n",
    "lista_livros = []\n",
    "for doc in collection.find(query):\n",
    "    lista_livros.append(doc)"
   ]
  },
  {
   "cell_type": "code",
   "execution_count": 29,
   "metadata": {},
   "outputs": [
    {
     "data": {
      "text/html": [
       "<div>\n",
       "<style scoped>\n",
       "    .dataframe tbody tr th:only-of-type {\n",
       "        vertical-align: middle;\n",
       "    }\n",
       "\n",
       "    .dataframe tbody tr th {\n",
       "        vertical-align: top;\n",
       "    }\n",
       "\n",
       "    .dataframe thead th {\n",
       "        text-align: right;\n",
       "    }\n",
       "</style>\n",
       "<table border=\"1\" class=\"dataframe\">\n",
       "  <thead>\n",
       "    <tr style=\"text-align: right;\">\n",
       "      <th></th>\n",
       "      <th>_id</th>\n",
       "      <th>Produto</th>\n",
       "      <th>Categoria do Produto</th>\n",
       "      <th>Preço</th>\n",
       "      <th>Frete</th>\n",
       "      <th>Data da Compra</th>\n",
       "      <th>Vendedor</th>\n",
       "      <th>Local da compra</th>\n",
       "      <th>Avaliação da compra</th>\n",
       "      <th>Tipo de pagamento</th>\n",
       "      <th>Quantidade de parcelas</th>\n",
       "      <th>latitude</th>\n",
       "      <th>longitude</th>\n",
       "    </tr>\n",
       "  </thead>\n",
       "  <tbody>\n",
       "    <tr>\n",
       "      <th>0</th>\n",
       "      <td>65b267f10c009c70acadc6e4</td>\n",
       "      <td>Modelagem preditiva</td>\n",
       "      <td>livros</td>\n",
       "      <td>92.45</td>\n",
       "      <td>5.609697</td>\n",
       "      <td>01/01/2020</td>\n",
       "      <td>Thiago Silva</td>\n",
       "      <td>BA</td>\n",
       "      <td>1</td>\n",
       "      <td>cartao_credito</td>\n",
       "      <td>3</td>\n",
       "      <td>-13.29</td>\n",
       "      <td>-41.71</td>\n",
       "    </tr>\n",
       "    <tr>\n",
       "      <th>1</th>\n",
       "      <td>65b267f10c009c70acadc6e5</td>\n",
       "      <td>Iniciando em programação</td>\n",
       "      <td>livros</td>\n",
       "      <td>43.84</td>\n",
       "      <td>0.000000</td>\n",
       "      <td>01/01/2020</td>\n",
       "      <td>Mariana Ferreira</td>\n",
       "      <td>SP</td>\n",
       "      <td>5</td>\n",
       "      <td>cartao_credito</td>\n",
       "      <td>1</td>\n",
       "      <td>-22.19</td>\n",
       "      <td>-48.79</td>\n",
       "    </tr>\n",
       "    <tr>\n",
       "      <th>2</th>\n",
       "      <td>65b267f10c009c70acadc6f7</td>\n",
       "      <td>Iniciando em programação</td>\n",
       "      <td>livros</td>\n",
       "      <td>63.25</td>\n",
       "      <td>3.894137</td>\n",
       "      <td>01/01/2022</td>\n",
       "      <td>Juliana Costa</td>\n",
       "      <td>RJ</td>\n",
       "      <td>5</td>\n",
       "      <td>cartao_credito</td>\n",
       "      <td>4</td>\n",
       "      <td>-22.25</td>\n",
       "      <td>-42.66</td>\n",
       "    </tr>\n",
       "    <tr>\n",
       "      <th>3</th>\n",
       "      <td>65b267f10c009c70acadc705</td>\n",
       "      <td>Ciência de dados com python</td>\n",
       "      <td>livros</td>\n",
       "      <td>86.13</td>\n",
       "      <td>5.273176</td>\n",
       "      <td>01/02/2021</td>\n",
       "      <td>Camila Ribeiro</td>\n",
       "      <td>RJ</td>\n",
       "      <td>4</td>\n",
       "      <td>cartao_credito</td>\n",
       "      <td>3</td>\n",
       "      <td>-22.25</td>\n",
       "      <td>-42.66</td>\n",
       "    </tr>\n",
       "    <tr>\n",
       "      <th>4</th>\n",
       "      <td>65b267f10c009c70acadc707</td>\n",
       "      <td>Ciência de dados com python</td>\n",
       "      <td>livros</td>\n",
       "      <td>72.75</td>\n",
       "      <td>1.458158</td>\n",
       "      <td>01/02/2021</td>\n",
       "      <td>Beatriz Moraes</td>\n",
       "      <td>PR</td>\n",
       "      <td>4</td>\n",
       "      <td>cartao_credito</td>\n",
       "      <td>2</td>\n",
       "      <td>-24.89</td>\n",
       "      <td>-51.55</td>\n",
       "    </tr>\n",
       "  </tbody>\n",
       "</table>\n",
       "</div>"
      ],
      "text/plain": [
       "                        _id                      Produto Categoria do Produto  \\\n",
       "0  65b267f10c009c70acadc6e4          Modelagem preditiva               livros   \n",
       "1  65b267f10c009c70acadc6e5     Iniciando em programação               livros   \n",
       "2  65b267f10c009c70acadc6f7     Iniciando em programação               livros   \n",
       "3  65b267f10c009c70acadc705  Ciência de dados com python               livros   \n",
       "4  65b267f10c009c70acadc707  Ciência de dados com python               livros   \n",
       "\n",
       "   Preço     Frete Data da Compra          Vendedor Local da compra  \\\n",
       "0  92.45  5.609697     01/01/2020      Thiago Silva              BA   \n",
       "1  43.84  0.000000     01/01/2020  Mariana Ferreira              SP   \n",
       "2  63.25  3.894137     01/01/2022     Juliana Costa              RJ   \n",
       "3  86.13  5.273176     01/02/2021    Camila Ribeiro              RJ   \n",
       "4  72.75  1.458158     01/02/2021    Beatriz Moraes              PR   \n",
       "\n",
       "   Avaliação da compra Tipo de pagamento  Quantidade de parcelas  latitude  \\\n",
       "0                    1    cartao_credito                       3    -13.29   \n",
       "1                    5    cartao_credito                       1    -22.19   \n",
       "2                    5    cartao_credito                       4    -22.25   \n",
       "3                    4    cartao_credito                       3    -22.25   \n",
       "4                    4    cartao_credito                       2    -24.89   \n",
       "\n",
       "   longitude  \n",
       "0     -41.71  \n",
       "1     -48.79  \n",
       "2     -42.66  \n",
       "3     -42.66  \n",
       "4     -51.55  "
      ]
     },
     "execution_count": 29,
     "metadata": {},
     "output_type": "execute_result"
    }
   ],
   "source": [
    "df = pd.DataFrame(lista_livros)\n",
    "df.head()"
   ]
  },
  {
   "cell_type": "code",
   "execution_count": 30,
   "metadata": {},
   "outputs": [],
   "source": [
    "def date_format(df_to_transform, column_date):\n",
    "    df_to_transform[column_date] = pd.to_datetime(df_to_transform[column_date], format='%d/%m/%Y')\n",
    "    df_to_transform[column_date] = df_to_transform[column_date].dt.strftime('%Y-%m-%d')\n",
    "    return df_to_transform"
   ]
  },
  {
   "cell_type": "code",
   "execution_count": 31,
   "metadata": {},
   "outputs": [
    {
     "data": {
      "text/html": [
       "<div>\n",
       "<style scoped>\n",
       "    .dataframe tbody tr th:only-of-type {\n",
       "        vertical-align: middle;\n",
       "    }\n",
       "\n",
       "    .dataframe tbody tr th {\n",
       "        vertical-align: top;\n",
       "    }\n",
       "\n",
       "    .dataframe thead th {\n",
       "        text-align: right;\n",
       "    }\n",
       "</style>\n",
       "<table border=\"1\" class=\"dataframe\">\n",
       "  <thead>\n",
       "    <tr style=\"text-align: right;\">\n",
       "      <th></th>\n",
       "      <th>_id</th>\n",
       "      <th>Produto</th>\n",
       "      <th>Categoria do Produto</th>\n",
       "      <th>Preço</th>\n",
       "      <th>Frete</th>\n",
       "      <th>Data da Compra</th>\n",
       "      <th>Vendedor</th>\n",
       "      <th>Local da compra</th>\n",
       "      <th>Avaliação da compra</th>\n",
       "      <th>Tipo de pagamento</th>\n",
       "      <th>Quantidade de parcelas</th>\n",
       "      <th>latitude</th>\n",
       "      <th>longitude</th>\n",
       "    </tr>\n",
       "  </thead>\n",
       "  <tbody>\n",
       "    <tr>\n",
       "      <th>0</th>\n",
       "      <td>65b267f10c009c70acadc6e4</td>\n",
       "      <td>Modelagem preditiva</td>\n",
       "      <td>livros</td>\n",
       "      <td>92.45</td>\n",
       "      <td>5.609697</td>\n",
       "      <td>2020-01-01</td>\n",
       "      <td>Thiago Silva</td>\n",
       "      <td>BA</td>\n",
       "      <td>1</td>\n",
       "      <td>cartao_credito</td>\n",
       "      <td>3</td>\n",
       "      <td>-13.29</td>\n",
       "      <td>-41.71</td>\n",
       "    </tr>\n",
       "    <tr>\n",
       "      <th>1</th>\n",
       "      <td>65b267f10c009c70acadc6e5</td>\n",
       "      <td>Iniciando em programação</td>\n",
       "      <td>livros</td>\n",
       "      <td>43.84</td>\n",
       "      <td>0.000000</td>\n",
       "      <td>2020-01-01</td>\n",
       "      <td>Mariana Ferreira</td>\n",
       "      <td>SP</td>\n",
       "      <td>5</td>\n",
       "      <td>cartao_credito</td>\n",
       "      <td>1</td>\n",
       "      <td>-22.19</td>\n",
       "      <td>-48.79</td>\n",
       "    </tr>\n",
       "    <tr>\n",
       "      <th>2</th>\n",
       "      <td>65b267f10c009c70acadc6f7</td>\n",
       "      <td>Iniciando em programação</td>\n",
       "      <td>livros</td>\n",
       "      <td>63.25</td>\n",
       "      <td>3.894137</td>\n",
       "      <td>2022-01-01</td>\n",
       "      <td>Juliana Costa</td>\n",
       "      <td>RJ</td>\n",
       "      <td>5</td>\n",
       "      <td>cartao_credito</td>\n",
       "      <td>4</td>\n",
       "      <td>-22.25</td>\n",
       "      <td>-42.66</td>\n",
       "    </tr>\n",
       "    <tr>\n",
       "      <th>3</th>\n",
       "      <td>65b267f10c009c70acadc705</td>\n",
       "      <td>Ciência de dados com python</td>\n",
       "      <td>livros</td>\n",
       "      <td>86.13</td>\n",
       "      <td>5.273176</td>\n",
       "      <td>2021-02-01</td>\n",
       "      <td>Camila Ribeiro</td>\n",
       "      <td>RJ</td>\n",
       "      <td>4</td>\n",
       "      <td>cartao_credito</td>\n",
       "      <td>3</td>\n",
       "      <td>-22.25</td>\n",
       "      <td>-42.66</td>\n",
       "    </tr>\n",
       "    <tr>\n",
       "      <th>4</th>\n",
       "      <td>65b267f10c009c70acadc707</td>\n",
       "      <td>Ciência de dados com python</td>\n",
       "      <td>livros</td>\n",
       "      <td>72.75</td>\n",
       "      <td>1.458158</td>\n",
       "      <td>2021-02-01</td>\n",
       "      <td>Beatriz Moraes</td>\n",
       "      <td>PR</td>\n",
       "      <td>4</td>\n",
       "      <td>cartao_credito</td>\n",
       "      <td>2</td>\n",
       "      <td>-24.89</td>\n",
       "      <td>-51.55</td>\n",
       "    </tr>\n",
       "  </tbody>\n",
       "</table>\n",
       "</div>"
      ],
      "text/plain": [
       "                        _id                      Produto Categoria do Produto  \\\n",
       "0  65b267f10c009c70acadc6e4          Modelagem preditiva               livros   \n",
       "1  65b267f10c009c70acadc6e5     Iniciando em programação               livros   \n",
       "2  65b267f10c009c70acadc6f7     Iniciando em programação               livros   \n",
       "3  65b267f10c009c70acadc705  Ciência de dados com python               livros   \n",
       "4  65b267f10c009c70acadc707  Ciência de dados com python               livros   \n",
       "\n",
       "   Preço     Frete Data da Compra          Vendedor Local da compra  \\\n",
       "0  92.45  5.609697     2020-01-01      Thiago Silva              BA   \n",
       "1  43.84  0.000000     2020-01-01  Mariana Ferreira              SP   \n",
       "2  63.25  3.894137     2022-01-01     Juliana Costa              RJ   \n",
       "3  86.13  5.273176     2021-02-01    Camila Ribeiro              RJ   \n",
       "4  72.75  1.458158     2021-02-01    Beatriz Moraes              PR   \n",
       "\n",
       "   Avaliação da compra Tipo de pagamento  Quantidade de parcelas  latitude  \\\n",
       "0                    1    cartao_credito                       3    -13.29   \n",
       "1                    5    cartao_credito                       1    -22.19   \n",
       "2                    5    cartao_credito                       4    -22.25   \n",
       "3                    4    cartao_credito                       3    -22.25   \n",
       "4                    4    cartao_credito                       2    -24.89   \n",
       "\n",
       "   longitude  \n",
       "0     -41.71  \n",
       "1     -48.79  \n",
       "2     -42.66  \n",
       "3     -42.66  \n",
       "4     -51.55  "
      ]
     },
     "execution_count": 31,
     "metadata": {},
     "output_type": "execute_result"
    }
   ],
   "source": [
    "df = date_format(df, 'Data da Compra')\n",
    "df.head()"
   ]
  },
  {
   "cell_type": "code",
   "execution_count": 32,
   "metadata": {},
   "outputs": [],
   "source": [
    "df.to_csv('../csv_data/data_livros.csv', index=False)"
   ]
  },
  {
   "cell_type": "code",
   "execution_count": 33,
   "metadata": {},
   "outputs": [],
   "source": [
    "query = {'Data da Compra':{'$regex':'/202[1-9]'}}\n",
    "\n",
    "lista_produtos_21_29 = []\n",
    "for doc in collection.find(query):\n",
    "    lista_produtos_21_29.append(doc)"
   ]
  },
  {
   "cell_type": "code",
   "execution_count": 34,
   "metadata": {},
   "outputs": [
    {
     "data": {
      "text/html": [
       "<div>\n",
       "<style scoped>\n",
       "    .dataframe tbody tr th:only-of-type {\n",
       "        vertical-align: middle;\n",
       "    }\n",
       "\n",
       "    .dataframe tbody tr th {\n",
       "        vertical-align: top;\n",
       "    }\n",
       "\n",
       "    .dataframe thead th {\n",
       "        text-align: right;\n",
       "    }\n",
       "</style>\n",
       "<table border=\"1\" class=\"dataframe\">\n",
       "  <thead>\n",
       "    <tr style=\"text-align: right;\">\n",
       "      <th></th>\n",
       "      <th>_id</th>\n",
       "      <th>Produto</th>\n",
       "      <th>Categoria do Produto</th>\n",
       "      <th>Preço</th>\n",
       "      <th>Frete</th>\n",
       "      <th>Data da Compra</th>\n",
       "      <th>Vendedor</th>\n",
       "      <th>Local da compra</th>\n",
       "      <th>Avaliação da compra</th>\n",
       "      <th>Tipo de pagamento</th>\n",
       "      <th>Quantidade de parcelas</th>\n",
       "      <th>latitude</th>\n",
       "      <th>longitude</th>\n",
       "    </tr>\n",
       "  </thead>\n",
       "  <tbody>\n",
       "    <tr>\n",
       "      <th>0</th>\n",
       "      <td>65b267f10c009c70acadc6ed</td>\n",
       "      <td>Xadrez de madeira</td>\n",
       "      <td>brinquedos</td>\n",
       "      <td>25.23</td>\n",
       "      <td>0.000000</td>\n",
       "      <td>2021-01-01</td>\n",
       "      <td>Thiago Silva</td>\n",
       "      <td>BA</td>\n",
       "      <td>5</td>\n",
       "      <td>cartao_credito</td>\n",
       "      <td>2</td>\n",
       "      <td>-13.29</td>\n",
       "      <td>-41.71</td>\n",
       "    </tr>\n",
       "    <tr>\n",
       "      <th>1</th>\n",
       "      <td>65b267f10c009c70acadc6ee</td>\n",
       "      <td>Impressora</td>\n",
       "      <td>eletronicos</td>\n",
       "      <td>322.04</td>\n",
       "      <td>14.732100</td>\n",
       "      <td>2021-01-01</td>\n",
       "      <td>João Souza</td>\n",
       "      <td>SP</td>\n",
       "      <td>3</td>\n",
       "      <td>cartao_credito</td>\n",
       "      <td>1</td>\n",
       "      <td>-22.19</td>\n",
       "      <td>-48.79</td>\n",
       "    </tr>\n",
       "    <tr>\n",
       "      <th>2</th>\n",
       "      <td>65b267f10c009c70acadc6ef</td>\n",
       "      <td>Mesa de centro</td>\n",
       "      <td>moveis</td>\n",
       "      <td>282.22</td>\n",
       "      <td>12.611805</td>\n",
       "      <td>2021-01-01</td>\n",
       "      <td>João Souza</td>\n",
       "      <td>SP</td>\n",
       "      <td>3</td>\n",
       "      <td>boleto</td>\n",
       "      <td>1</td>\n",
       "      <td>-22.19</td>\n",
       "      <td>-48.79</td>\n",
       "    </tr>\n",
       "    <tr>\n",
       "      <th>3</th>\n",
       "      <td>65b267f10c009c70acadc6f0</td>\n",
       "      <td>Tablet ABXY</td>\n",
       "      <td>eletronicos</td>\n",
       "      <td>1100.42</td>\n",
       "      <td>68.451348</td>\n",
       "      <td>2021-01-01</td>\n",
       "      <td>Beatriz Moraes</td>\n",
       "      <td>SP</td>\n",
       "      <td>1</td>\n",
       "      <td>cupom</td>\n",
       "      <td>1</td>\n",
       "      <td>-22.19</td>\n",
       "      <td>-48.79</td>\n",
       "    </tr>\n",
       "    <tr>\n",
       "      <th>4</th>\n",
       "      <td>65b267f10c009c70acadc6f1</td>\n",
       "      <td>Fogão</td>\n",
       "      <td>eletrodomesticos</td>\n",
       "      <td>791.81</td>\n",
       "      <td>42.444626</td>\n",
       "      <td>2021-01-01</td>\n",
       "      <td>Juliana Costa</td>\n",
       "      <td>SP</td>\n",
       "      <td>4</td>\n",
       "      <td>boleto</td>\n",
       "      <td>1</td>\n",
       "      <td>-22.19</td>\n",
       "      <td>-48.79</td>\n",
       "    </tr>\n",
       "  </tbody>\n",
       "</table>\n",
       "</div>"
      ],
      "text/plain": [
       "                        _id            Produto Categoria do Produto    Preço  \\\n",
       "0  65b267f10c009c70acadc6ed  Xadrez de madeira           brinquedos    25.23   \n",
       "1  65b267f10c009c70acadc6ee         Impressora          eletronicos   322.04   \n",
       "2  65b267f10c009c70acadc6ef     Mesa de centro               moveis   282.22   \n",
       "3  65b267f10c009c70acadc6f0        Tablet ABXY          eletronicos  1100.42   \n",
       "4  65b267f10c009c70acadc6f1              Fogão     eletrodomesticos   791.81   \n",
       "\n",
       "       Frete Data da Compra        Vendedor Local da compra  \\\n",
       "0   0.000000     2021-01-01    Thiago Silva              BA   \n",
       "1  14.732100     2021-01-01      João Souza              SP   \n",
       "2  12.611805     2021-01-01      João Souza              SP   \n",
       "3  68.451348     2021-01-01  Beatriz Moraes              SP   \n",
       "4  42.444626     2021-01-01   Juliana Costa              SP   \n",
       "\n",
       "   Avaliação da compra Tipo de pagamento  Quantidade de parcelas  latitude  \\\n",
       "0                    5    cartao_credito                       2    -13.29   \n",
       "1                    3    cartao_credito                       1    -22.19   \n",
       "2                    3            boleto                       1    -22.19   \n",
       "3                    1             cupom                       1    -22.19   \n",
       "4                    4            boleto                       1    -22.19   \n",
       "\n",
       "   longitude  \n",
       "0     -41.71  \n",
       "1     -48.79  \n",
       "2     -48.79  \n",
       "3     -48.79  \n",
       "4     -48.79  "
      ]
     },
     "execution_count": 34,
     "metadata": {},
     "output_type": "execute_result"
    }
   ],
   "source": [
    "df_produtos = pd.DataFrame(lista_produtos_21_29)\n",
    "df_produtos = date_format(df_produtos, 'Data da Compra')\n",
    "df_produtos.head()"
   ]
  },
  {
   "cell_type": "code",
   "execution_count": 35,
   "metadata": {},
   "outputs": [],
   "source": [
    "df_produtos.to_csv('../csv_data/data_produtos_21_29.csv', index=False)"
   ]
  }
 ],
 "metadata": {
  "kernelspec": {
   "display_name": "venv",
   "language": "python",
   "name": "python3"
  },
  "language_info": {
   "codemirror_mode": {
    "name": "ipython",
    "version": 3
   },
   "file_extension": ".py",
   "mimetype": "text/x-python",
   "name": "python",
   "nbconvert_exporter": "python",
   "pygments_lexer": "ipython3",
   "version": "3.12.1"
  }
 },
 "nbformat": 4,
 "nbformat_minor": 2
}
